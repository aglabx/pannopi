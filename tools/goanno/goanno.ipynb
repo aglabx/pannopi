{
 "cells": [
  {
   "cell_type": "code",
   "execution_count": 12,
   "metadata": {},
   "outputs": [],
   "source": [
    "#INPUT FILES\n",
    "obo = \"/mnt/projects/shared/go.obo\"\n",
    "egg_anno = \"/mnt/projects/vdikaya/\""
   ]
  },
  {
   "cell_type": "code",
   "execution_count": 13,
   "metadata": {},
   "outputs": [],
   "source": [
    "#PATH AND PREFIX\n",
    "path = \"/\".join(egg_anno.split(\"/\")[:-1])\n",
    "file_pref = egg_anno.split(\"/\")[-1].split(\".\")[0]\n",
    "prefix = path + \"/\" + file_pref"
   ]
  },
  {
   "cell_type": "code",
   "execution_count": 14,
   "metadata": {},
   "outputs": [],
   "source": [
    "#OUTPUT FILES\n",
    "anno_tsv = prefix + \"_anno.tsv\"\n",
    "gene_copy_file =prefix + \"_gene_copy.tsv\"\n",
    "genes_analysis = prefix + \"_genes_analysis.txt\"\n",
    "all_genes_file = prefix + \"_genes.txt\""
   ]
  },
  {
   "cell_type": "code",
   "execution_count": 15,
   "metadata": {},
   "outputs": [],
   "source": [
    "import os\n",
    "from collections import Counter"
   ]
  },
  {
   "cell_type": "code",
   "execution_count": 16,
   "metadata": {},
   "outputs": [],
   "source": [
    "dict_GO = {}\n",
    "header = None\n",
    "with open (obo) as fh:\n",
    "    for line in fh:\n",
    "        line = line.strip()\n",
    "        if line.startswith('id: GO') and header == None:\n",
    "            header = line.replace('id: ', '')\n",
    "            seq = []\n",
    "            continue\n",
    "        elif line.startswith('id: GO') and header != None:\n",
    "            dict_GO[header] = \" \".join(seq[:-2]).lower()\n",
    "            header = line.replace('id: ', '')\n",
    "            seq = []\n",
    "        elif line.startswith(\"[Typedef]\"):\n",
    "            dict_GO[header] = \" \".join(seq[:-2]).lower()\n",
    "            break\n",
    "        elif header != None:\n",
    "            seq.append(line)"
   ]
  },
  {
   "cell_type": "code",
   "execution_count": 17,
   "metadata": {},
   "outputs": [],
   "source": [
    "from collections import defaultdict\n",
    "go2genes = defaultdict(list)\n",
    "with open(anno_tsv, \"w\") as fa:\n",
    "    with open(egg_anno) as fh:\n",
    "        for line in fh:\n",
    "            if line.startswith(\"#\"):\n",
    "                continue\n",
    "            line = line.strip().split(\"\\t\")  \n",
    "            gene_name = line[4]\n",
    "            GO = line[5].split(\",\")\n",
    "            for go in GO:\n",
    "                if go in dict_GO:\n",
    "                    if not line[4]:\n",
    "                        line[4] = \"NA\"\n",
    "                    gene_name = \"%s:%s\" % (line[0], line[4])\n",
    "                    go2genes[go].append(gene_name)\n",
    "    fh.close()\n",
    "    for go in go2genes.keys():\n",
    "        fa.write(\"%s\\t%s\\t%s\\n\" % (go, \",\".join(list(set(go2genes[go]))), dict_GO[go]))\n",
    "fa.close()"
   ]
  },
  {
   "cell_type": "code",
   "execution_count": 18,
   "metadata": {},
   "outputs": [],
   "source": [
    "gene_copy = defaultdict(int)\n",
    "with open(egg_anno) as fh:\n",
    "    for line in fh:\n",
    "        if line.startswith(\"#\"):\n",
    "            continue\n",
    "        line = line.strip().split(\"\\t\")  \n",
    "        if not line[4]:\n",
    "            line[4] = \"NA\"\n",
    "        else:\n",
    "            gene_copy[line[4]] += 1\n",
    "fh.close()\n",
    "\n",
    "with open(gene_copy_file, \"w\") as fw:\n",
    "    for gene_name, copy_number in gene_copy.items():\n",
    "        fw.write(\"%s\\t%s\\n\" % (gene_name, copy_number))\n",
    "fw.close()"
   ]
  },
  {
   "cell_type": "code",
   "execution_count": 19,
   "metadata": {},
   "outputs": [
    {
     "data": {
      "text/plain": [
       "0"
      ]
     },
     "execution_count": 19,
     "metadata": {},
     "output_type": "execute_result"
    }
   ],
   "source": [
    "command = \"less \"  + egg_anno  + \" | cut -f 5 > \" + all_genes_file\n",
    "os.system(command)"
   ]
  },
  {
   "cell_type": "code",
   "execution_count": 20,
   "metadata": {},
   "outputs": [],
   "source": [
    "interest_gene_dict  = {}\n",
    "unique_genes_dict = {}\n",
    "search_words = [\"invasion\", \"adhesion\", \"o antigen\", \"h antigen\", \"toxin metabol\"]\n",
    "for word in search_words:\n",
    "    genes_list = []\n",
    "    unique_genes = []\n",
    "    report = []\n",
    "    with open(anno_tsv) as f:\n",
    "        \n",
    "        #ADDING ALL LINES WITH A WORD INTO THE LIST\n",
    "        for line in f:\n",
    "            if word in line:\n",
    "                genes_list.append(line)\n",
    "        \n",
    "    #ERASE ALL USELESS INFORMATION\n",
    "    for i in genes_list:\n",
    "        report_to_one = []\n",
    "        line = i.split(\"\\t\")\n",
    "        go_id = line[0]\n",
    "        description = \"Description: \" + line[2].split('\"')[1]\n",
    "\n",
    "        genes = line[1].split(\",\")\n",
    "        gene_name = []\n",
    "        for i in genes:\n",
    "            gene = i.split(\":\")[1]\n",
    "            gene_name.append(gene)\n",
    "            unique_genes.append(gene)\n",
    "\n",
    "        report_to_one.append(go_id)\n",
    "        report_to_one.append(gene_name)\n",
    "        report_to_one.append(description)\n",
    "\n",
    "        report.append(report_to_one)\n",
    "            \n",
    "    unique_genes_dict[\"%s UNIQUE GENES\" % (word.upper())] = Counter(unique_genes)\n",
    "    interest_gene_dict[\"%s GENES ANNOTATION\" % (word.upper())] = report"
   ]
  },
  {
   "cell_type": "code",
   "execution_count": 21,
   "metadata": {},
   "outputs": [],
   "source": [
    "with open(genes_analysis, \"w\") as fw:\n",
    "    # GENES COUNTER\n",
    "    with open(all_genes_file) as f:\n",
    "        unknown_genes = 0\n",
    "        known_genes = 0\n",
    "        for line in f:\n",
    "            line = line.strip()\n",
    "            if line.startswith(\"#\") or line.startswith(\"predicted\"):\n",
    "                continue\n",
    "            elif line == \"\":\n",
    "                unknown_genes += 1\n",
    "            else:\n",
    "                known_genes += 1\n",
    "    fw.write(\"Unnown genes: \" + str(unknown_genes) + \\\n",
    "             \"\\nKnown genes: \" + str(known_genes) + \\\n",
    "            \"\\nGenes sum: \" + str(unknown_genes + known_genes) + \"\\n\")\n",
    "    f.close()\n",
    "    \n",
    "    # UNIQUE GENES COUNTER\n",
    "    for key, value in unique_genes_dict.items():\n",
    "        fw.write(\"\\n%s: \" % key)\n",
    "        for gene, number in dict(value).items():\n",
    "            fw.write(\"\\n%s : %s\" % (gene, number))\n",
    "            \n",
    "    # WRITE INTERESTING GENES ANNOTATION INTO THE FILE\n",
    "    for key, value in interest_gene_dict.items():\n",
    "        fw.write(\"\\n\\n%s\\n\" % key)\n",
    "        for gene_ann in value:\n",
    "            go_id = gene_ann[0]\n",
    "            genes = \", \".join(gene_ann[1])\n",
    "            discription = gene_ann[2]\n",
    "            fw.write(\"\\n%s\\t%s\\t%s\" % (go_id, genes, discription))\n",
    "fw.close()"
   ]
  },
  {
   "cell_type": "code",
   "execution_count": null,
   "metadata": {},
   "outputs": [],
   "source": [
    "# gene_of_interest = set()\n",
    "# with open(egg_anno) as fh:\n",
    "#     for line in fh:\n",
    "#         if line.startswith('#'):\n",
    "#             continue\n",
    "#         line = line.strip().split('\\t')\n",
    "#         gene_name = line[4]\n",
    "#         GO = line[5].split(',')\n",
    "#         for go in GO:\n",
    "#             if go in dict_GO and 'toxin' in dict_GO[go]:\n",
    "#                 #print(go, gene_name, dict_GO[go])\n",
    "#                 #break\n",
    "#                 gene_of_interest.add(gene_name)"
   ]
  }
 ],
 "metadata": {
  "kernelspec": {
   "display_name": "Python 3",
   "language": "python",
   "name": "python3"
  },
  "language_info": {
   "codemirror_mode": {
    "name": "ipython",
    "version": 3
   },
   "file_extension": ".py",
   "mimetype": "text/x-python",
   "name": "python",
   "nbconvert_exporter": "python",
   "pygments_lexer": "ipython3",
   "version": "3.7.6"
  }
 },
 "nbformat": 4,
 "nbformat_minor": 4
}
