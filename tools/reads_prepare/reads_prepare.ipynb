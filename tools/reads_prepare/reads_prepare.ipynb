{
 "cells": [
  {
   "cell_type": "code",
   "execution_count": 18,
   "metadata": {},
   "outputs": [],
   "source": [
    "import os\n",
    "import os.path"
   ]
  },
  {
   "cell_type": "code",
   "execution_count": 19,
   "metadata": {},
   "outputs": [],
   "source": [
    "workdir = \"/home/dzilov/prokaryotic_pipeline/data/salmon13\""
   ]
  },
  {
   "cell_type": "code",
   "execution_count": 20,
   "metadata": {},
   "outputs": [
    {
     "name": "stdout",
     "output_type": "stream",
     "text": [
      "Forvard reads is: /home/dzilov/prokaryotic_pipeline/data/salmon13/Salmon13-245_S3_L001_1.fastq\n",
      "Reverse reads is: /home/dzilov/prokaryotic_pipeline/data/salmon13/Salmon13-245_S3_L001_2.fastq\n"
     ]
    }
   ],
   "source": [
    "for i in os.listdir(workdir):\n",
    "    if \"R1\" in i or \"_1.fastq\" in i:\n",
    "        raw_fastq_1 = workdir + \"/\" + i\n",
    "    elif \"R2\" in i or \"_2.fastq\" in i:\n",
    "        raw_fastq_2 = workdir + \"/\" + i\n",
    "\n",
    "print(\"Forvard reads is:\", raw_fastq_1)\n",
    "print(\"Reverse reads is:\", raw_fastq_2)"
   ]
  },
  {
   "cell_type": "code",
   "execution_count": 21,
   "metadata": {},
   "outputs": [],
   "source": [
    "EXECUTE_INDEX_BUILDING = False\n",
    "\n",
    "if raw_fastq_1.endswith(\".gz\"):\n",
    "    command = \"gzip -d %s\" % (raw_fastq_1)\n",
    "    print(command)\n",
    "    os.system(command)\n",
    "    command = \"gzip -d %s\" % (raw_fastq_2)\n",
    "    print(command)\n",
    "    os.system(command)\n",
    "    \n",
    "    raw_fastq_1 = raw_fastq_1.replace(\".gz\", \"\")\n",
    "    raw_fastq_2 = raw_fastq_2.replace(\".gz\", \"\")\n",
    "    \n",
    "if raw_fastq_1.endswith(\".tar.gz\"):\n",
    "    command = \"tar xfvz %s\" % (raw_fastq_1)\n",
    "    print(command)\n",
    "    os.system(command)\n",
    "    command = \"tar xfvz %s\" % (raw_fastq_2)\n",
    "    print(command)\n",
    "    os.system(command)\n",
    "    \n",
    "    raw_fastq_1 = raw_fastq_1.replace(\".tar.gz\", \"\")\n",
    "    raw_fastq_2 = raw_fastq_2.replace(\".tar.gz\", \"\")\n",
    "    \n",
    "if raw_fastq_1.endswith(\".fq\"):\n",
    "    new_raw_file_1 = raw_fastq_1.replace(\".fq\", \".fastq\")\n",
    "    command = \"mv %s %s\" % (raw_fastq_1, new_raw_file_1)\n",
    "    print(command)\n",
    "    os.system(command)\n",
    "    new_raw_file_2 = raw_fastq_2.replace(\".fq\", \".fastq\")\n",
    "    command = \"mv %s %s\" % (raw_fastq_2, new_raw_file_2)\n",
    "    print(command)\n",
    "    os.system(command)\n",
    "    raw_fastq_1 = new_raw_file_1\n",
    "    raw_fastq_2 = new_raw_file_2\n",
    "    \n",
    "if \"R1\" in raw_fastq_1:\n",
    "    new_raw_file_1 = raw_fastq_1.split(\"R1\")[0] + \"1.fastq\"\n",
    "    command = \"mv %s %s\" % (raw_fastq_1, new_raw_file_1)\n",
    "    print(command)\n",
    "    os.system(command)\n",
    "    new_raw_file_2 = raw_fastq_2.split(\"R2\")[0] + \"2.fastq\"\n",
    "    command = \"mv %s %s\" % (raw_fastq_2, new_raw_file_2)\n",
    "    print(command)\n",
    "    os.system(command)\n",
    "    raw_fastq_1 = new_raw_file_1\n",
    "    raw_fastq_2 = new_raw_file_2\n",
    "\n",
    "assert raw_fastq_1.endswith(\"_1.fastq\")\n",
    "assert raw_fastq_2.endswith(\"_2.fastq\")"
   ]
  },
  {
   "cell_type": "code",
   "execution_count": null,
   "metadata": {},
   "outputs": [],
   "source": []
  }
 ],
 "metadata": {
  "kernelspec": {
   "display_name": "Python 3",
   "language": "python",
   "name": "python3"
  },
  "language_info": {
   "codemirror_mode": {
    "name": "ipython",
    "version": 3
   },
   "file_extension": ".py",
   "mimetype": "text/x-python",
   "name": "python",
   "nbconvert_exporter": "python",
   "pygments_lexer": "ipython3",
   "version": "3.7.6"
  }
 },
 "nbformat": 4,
 "nbformat_minor": 4
}
